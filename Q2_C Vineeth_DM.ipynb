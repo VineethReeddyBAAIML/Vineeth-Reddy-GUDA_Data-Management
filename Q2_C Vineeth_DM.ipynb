{
 "cells": [
  {
   "cell_type": "code",
   "execution_count": 1,
   "id": "36182c3a",
   "metadata": {},
   "outputs": [],
   "source": [
    "import sqlite3\n",
    "import pandas as pd\n",
    "\n",
    "\n",
    "conn = sqlite3.connect(\"Wine.db\")\n",
    "\n",
    "rater_query = \"SELECT DISTINCT name FROM Rater;\"\n",
    "\n",
    "rater_names = pd.read_sql_query(rater_query, conn)[\"name\"]\n",
    "\n",
    "\n",
    "for rater_name in rater_names:\n",
    "\n",
    "    query = f\"\"\"\n",
    "    SELECT\n",
    "        rt.name AS rater_name,\n",
    "        MIN(wn.points) AS min_points,\n",
    "        MAX(wn.points) AS max_points,\n",
    "        AVG(wn.points) AS avg_points,\n",
    "        (MAX(wn.points) + MIN(wn.points)) / 2 AS median_points,\n",
    "        MIN(wn.price) AS min_price,\n",
    "        MAX(wn.price) AS max_price,\n",
    "        AVG(wn.price) AS avg_price,\n",
    "        (MAX(wn.price) + MIN(wn.price)) / 2 AS median_price\n",
    "    FROM Rater rt\n",
    "    JOIN Wine wn ON rt.id = wn.rid\n",
    "    WHERE rt.name = '{rater_name}'\n",
    "    GROUP BY rt.name;\n",
    "    \"\"\"\n",
    "\n",
    "    \n",
    "    result_df = pd.read_sql_query(query, conn)\n",
    "\n",
    "    result_df.to_excel(f'{rater_name}.xlsx', index=False)\n",
    "\n",
    "\n",
    "conn.close()"
   ]
  },
  {
   "cell_type": "code",
   "execution_count": null,
   "id": "58a8e169",
   "metadata": {},
   "outputs": [],
   "source": []
  }
 ],
 "metadata": {
  "kernelspec": {
   "display_name": "Python 3 (ipykernel)",
   "language": "python",
   "name": "python3"
  },
  "language_info": {
   "codemirror_mode": {
    "name": "ipython",
    "version": 3
   },
   "file_extension": ".py",
   "mimetype": "text/x-python",
   "name": "python",
   "nbconvert_exporter": "python",
   "pygments_lexer": "ipython3",
   "version": "3.11.5"
  }
 },
 "nbformat": 4,
 "nbformat_minor": 5
}
